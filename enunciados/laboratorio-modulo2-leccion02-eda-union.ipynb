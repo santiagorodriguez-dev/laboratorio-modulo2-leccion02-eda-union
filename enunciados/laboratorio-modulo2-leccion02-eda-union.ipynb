{
 "cells": [
  {
   "cell_type": "markdown",
   "metadata": {},
   "source": [
    "<div style=\"text-align: center;\">\n",
    "  <img src=\"https://github.com/Hack-io-Data/Imagenes/blob/main/01-LogosHackio/logo_naranja@4x.png?raw=true\" alt=\"esquema\" />\n",
    "</div>"
   ]
  },
  {
   "cell_type": "markdown",
   "metadata": {},
   "source": [
    "# Laboratorio Pandas (EDA y Unión de Datos)\n",
    "\n",
    "## Los datos\n",
    "\n",
    "Para este laboratorio, trabajarás con los siguientes conjuntos de datos:\n",
    "\n",
    "- **`netflix_originals.csv`**: Contiene información sobre producciones originales de Netflix. Las columnas que nos encontraremos en este conjunto de datos son: \n",
    "\n",
    "   - `Title`: Contiene el nombre del título de la producción original de Netflix.\n",
    "\n",
    "   - `Genre`: Especifica el género o combinación de géneros de la producción.\n",
    "\n",
    "   - `Premiere`: Indica la fecha de estreno de la producción en Netflix.\n",
    "\n",
    "   - `Runtime`: Contiene la duración de la producción en minutos.\n",
    "\n",
    "   - `IMDB Score`: Representa la calificación promedio que la producción ha recibido en la plataforma IMDB.\n",
    "\n",
    "   - `Language`: Especifica el idioma principal o los idiomas en los que se presenta la producción.\n",
    "\n",
    "- **`netflix_titles.csv`**: Contiene información sobre una variedad de títulos disponibles en la plataforma Netflix, incluyendo tanto películas como series de televisión. Las columnas que nos encontraremos en este conjunto de datos son:\n",
    "\n",
    "   - `show_id`: Identificador único para cada título en el dataset.\n",
    "\n",
    "   - `type`: Especifica el tipo de contenido, ya sea \"Movie\" (película) o \"TV Show\" (serie de televisión).\n",
    "\n",
    "   - `title`: Contiene el nombre del título de la producción.\n",
    "\n",
    "   - `director`: Muestra el nombre del director del título. Puede estar vacío en algunos casos.\n",
    "\n",
    "   - `cast`: Lista de actores y actrices que participaron en el título. También puede estar vacío en algunos casos.\n",
    "\n",
    "   - `country`: País o países donde se produjo el título. Esta columna también puede tener valores faltantes.\n",
    "\n",
    "   - `date_added`: Fecha en la que el título fue añadido al catálogo de Netflix.\n",
    "\n",
    "   - `release_year`: Año en que el título fue lanzado o producido.\n",
    "\n",
    "   - `rating`: Clasificación del contenido en términos de audiencia (por ejemplo, PG-13, TV-MA).\n",
    "\n",
    "   - `duration`: Duración del título. Para películas, se expresa en minutos (e.g., \"90 min\") y para series en temporadas (e.g., \"2 Seasons\").\n",
    "\n",
    "   - `listed_in`: Categorías o géneros bajo los cuales el título está clasificado (por ejemplo, \"Documentaries\", \"TV Dramas\").\n",
    "\n",
    "   - `description`: Breve sinopsis o descripción del contenido del título.\n",
    "\n",
    "A lo largo de los laboratorios de Pandas, trabajarás con estos conjuntos de datos (o con los derivados del Laboratorio), algunas de las actividades que realizaremos son:\n",
    "\n",
    "- Exploración de datos y análisis exploratorio (EDA) para familiarizarse con los conjuntos de datos.\n",
    "\n",
    "- Realización de uniones entre conjuntos de datos, aplicando diferentes técnicas de *merging* y analizando la relevancia de cada método.\n",
    "\n",
    "- Uso de funciones de selección y filtrado (`loc`, `iloc`) para extraer información clave.\n",
    "\n",
    "- Desarrollo de análisis descriptivos y visualización de patrones para comprender mejor las decisiones estratégicas de la plataforma.\n",
    "\n",
    "----\n",
    "\n",
    "## Objetivo General de la Serie de Laboratorios\n",
    "\n",
    "\n",
    "\n",
    "1. **Unión de `netflix_titles.csv` con `netflix_originals.csv`:**\n",
    "\n",
    "   - **Análisis de contenido original:**  Identificarás los títulos que son producciones originales de Netflix y los compararás con los títulos adquiridos. Este análisis te permitirá:\n",
    "\n",
    "     - Comparar la diversidad de géneros entre los títulos originales y no originales.\n",
    "\n",
    "     - Evaluar si ciertos géneros o tipos de contenido (como documentales o series) son más frecuentes en las producciones originales.\n",
    "\n",
    "     - Investigar si la producción original se concentra en determinados países o idiomas.\n",
    "\n",
    "\n",
    "   - **Evaluación de contenido:** En esta etapa, explorarás si las producciones originales de Netflix tienden a recibir mejores o peores evaluaciones en comparación con el contenido adquirido. Algunas preguntas que se buscarán responder incluyen:\n",
    "\n",
    "     - ¿Los títulos originales tienen una calificación promedio superior en plataformas como IMDB?\n",
    "\n",
    "     - ¿Son las producciones originales más consistentes en términos de calidad percibida?\n",
    "\n",
    "     - ¿Existen diferencias en la popularidad de los títulos originales según su género o país de origen?\n",
    "\n",
    "\n",
    "   - **Identificación de tendencias:**  Por último, este análisis te permitirá explorar cómo ha evolucionado la estrategia de contenido de Netflix a lo largo del tiempo. Algunos puntos clave a investigar serán:\n",
    "\n",
    "     - ¿Cómo ha crecido la producción original en comparación con la adquisición de contenido?\n",
    "\n",
    "     - ¿Qué géneros o tipos de contenido han recibido mayor inversión en los últimos años?\n",
    "     \n",
    "     - ¿Existen patrones en los países o idiomas de las producciones originales, especialmente en relación con la expansión global de Netflix?\n",
    "\n",
    "\n",
    "----\n",
    "## Ejercicio: Análisis y Enriquecimiento del Catálogo de Netflix\n"
   ]
  },
  {
   "cell_type": "code",
   "execution_count": 1,
   "metadata": {},
   "outputs": [],
   "source": [
    "\n",
    "import pandas as pd\n",
    "pd.set_option('display.max_columns', 200)\n",
    "pd.set_option('display.max_rows', 100)\n",
    "pd.set_option('display.min_rows', 100)\n",
    "pd.set_option('display.expand_frame_repr', True)\n",
    "\n",
    "import numpy as np\n",
    "\n",
    "import warnings\n",
    "warnings.filterwarnings(\"ignore\")\n"
   ]
  },
  {
   "cell_type": "markdown",
   "metadata": {},
   "source": [
    "### Parte 1: Análisis Exploratorio de Datos (EDA)\n",
    "\n",
    "1. **Carga de los datos:**\n",
    "\n",
    "   - Deberás cargar los dos conjuntos de datos que te hemos proporcionado para realizar este Laboratorio:\n",
    "\n",
    "     - `netflix_originals.csv`\n",
    "\n",
    "     - `netflix_titles.csv`\n",
    "\n",
    "   Deberás revisar la estructura de cada conjunto de datos utilizando los métodos aprendidos durante la lección.\n",
    "\n",
    "2. **Análisis de columnas y consistencia:**\n",
    "\n",
    "   - Deberás hacer un análisis exploratorio de cada uno de los conjuntos de datos. Será obligatorio que incluyas las conclusiones generales obtenidas de cada uno de los análisis exploratorios en el Jupyter Notebook de tus soluciones.\n",
    "\n",
    "   - Explorar qué columnas contiene cada conjunto de datos y cuáles son sus tipos de datos. Identificar si hay valores nulos o duplicados.\n",
    "\n",
    "   - Algunas preguntas que nos podemos plantear en esta fase son (recuerda que esto es solo un ejemplo, y que podemos explorar todo lo que queramos/necesitemos para entender lo mejor posible los conjuntos de datos):\n",
    "\n",
    "      - ¿Cuáles son los tipos de datos de cada columna? Nos puede ayudar a detectar si algún tipo de dato está incorrectamente asignado, como fechas almacenadas como cadenas de texto.\n",
    "\n",
    "      - ¿Existen valores nulos? ¿En qué columnas están? Este paso es crucial para decidir si deben ser eliminados, rellenados o ignorados.\n",
    "\n",
    "      - ¿Cuántos títulos únicos hay en cada conjunto de datos? Nos puede permitir verificar si existen títulos duplicados que puedan distorsionar el análisis.\n",
    "\n",
    "      - ¿Qué géneros tenemos en el conjunto de datos? Esto nos puede ayudar a identificar los géneros más populares o incluso a identificar una posible limpieza de dicha columna para poder extraer conclusiones más claras en nuestro análisis."
   ]
  },
  {
   "cell_type": "code",
   "execution_count": 2,
   "metadata": {},
   "outputs": [],
   "source": [
    "# leemos los ficheros\n",
    "df_netfilx_original = pd.read_csv(\"../datos/netflix_originals.csv\", index_col=0)\n",
    "df_netfilx_titles = pd.read_csv(\"../datos/netflix_titles.csv\", index_col=0)"
   ]
  },
  {
   "cell_type": "code",
   "execution_count": null,
   "metadata": {},
   "outputs": [],
   "source": [
    "# Visualizamos datos y vemos las columnas que lo componen\n",
    "df_netfilx_original.sample(2)"
   ]
  },
  {
   "cell_type": "code",
   "execution_count": null,
   "metadata": {},
   "outputs": [],
   "source": [
    "# Visualizamos datos y vemos las columnas que lo componen\n",
    "df_netfilx_titles"
   ]
  },
  {
   "cell_type": "code",
   "execution_count": null,
   "metadata": {},
   "outputs": [],
   "source": [
    "# creamos una serie de datos que contienen solo peliculas\n",
    "df_filtro_movies =df_netfilx_titles[\"type\"]=='Movie'\n",
    "df_filtado_movies_resultado = df_netfilx_titles[df_filtro_movies]\n",
    "df_filtado_movies_resultado.sample(3)"
   ]
  },
  {
   "cell_type": "code",
   "execution_count": 27,
   "metadata": {},
   "outputs": [],
   "source": [
    "# creamos serie de datos con la duracion de las peliculas\n",
    "resul_series_duracion = df_filtado_movies_resultado.value_counts(\"duration\")\n",
    "# creamos dataFrame con la duracion de las peliculas \n",
    "result_df_series_duracion = pd.DataFrame(resul_series_duracion)\n",
    "\n",
    "# creamos serie de datos con el año de lanzamiento de las peliculas\n",
    "resul_series_release = df_netfilx_titles[df_filtro_movies].value_counts(\"release_year\")\n",
    "# creamos dataFrame con el año de lanzamiento de las peliculas\n",
    "result_df_series_release = pd.DataFrame(resul_series_release)\n"
   ]
  },
  {
   "cell_type": "code",
   "execution_count": null,
   "metadata": {},
   "outputs": [],
   "source": [
    "result_df_series_duracion"
   ]
  },
  {
   "cell_type": "code",
   "execution_count": null,
   "metadata": {},
   "outputs": [],
   "source": [
    "result_df_series_release"
   ]
  },
  {
   "cell_type": "code",
   "execution_count": null,
   "metadata": {},
   "outputs": [],
   "source": [
    "#verificamos si hay nulos en el juego de datos, para determinar si nos interesa un dato o no.\n",
    "np.round(df_filtado_movies_resultado.isnull().sum() / df_filtado_movies_resultado.shape[0] * 100, 2)"
   ]
  },
  {
   "cell_type": "code",
   "execution_count": null,
   "metadata": {},
   "outputs": [],
   "source": [
    "# observamos los datos aritmeticos del dataframe generado\n",
    "df_mostrar = df_filtado_movies_resultado.describe(include=\"O\").T\n",
    "df_mostrar.iloc[[3,5,8],:]"
   ]
  },
  {
   "cell_type": "markdown",
   "metadata": {},
   "source": [
    "### Parte 2: Unión de Datos\n",
    "\n",
    "1. **Realización de la unión:**\n",
    "\n",
    "   - Deberás realizar la unión que consideres más apropiada entre `netflix_titles.csv` y `netflix_originals.csv`. Además, deberás justificar el tipo de unión que has realizado.\n",
    "\n",
    "   - Esto nos ayudará a contestar preguntas más adelente del tipo:\n",
    "\n",
    "     - ¿Cuántos títulos en `netflix_titles.csv` son producciones originales de Netflix?\n",
    "\n",
    "     - ¿Hay diferencias significativas en la puntuación de IMDB entre títulos originales y no originales?"
   ]
  },
  {
   "cell_type": "markdown",
   "metadata": {},
   "source": [
    "*Hacemos un merge por las columas Title y title de cada respectivo DataFrame, cruzamos con how='right', para que aparezcan todos\n",
    "los registros de netfilx_titles, tengan o no netfilx_original, la gran mayoria de registros no son producciones propias de netflix, con lo \n",
    "cual si hacemos un left join, perdemos muchos registros*"
   ]
  },
  {
   "cell_type": "code",
   "execution_count": null,
   "metadata": {},
   "outputs": [],
   "source": [
    "df_resultado_merge= df_netfilx_original.merge(df_netfilx_titles, left_on='Title', right_on='title', how='right')\n",
    "df_resultado_merge"
   ]
  },
  {
   "cell_type": "markdown",
   "metadata": {},
   "source": [
    "#### Hay 513 titulos originales de netflix"
   ]
  },
  {
   "cell_type": "code",
   "execution_count": null,
   "metadata": {},
   "outputs": [],
   "source": [
    "df_resut_not_null_Title = df_resultado_merge.notnull().sum()[\"Title\"]\n",
    "df_resut_not_null_Title\n"
   ]
  },
  {
   "cell_type": "markdown",
   "metadata": {},
   "source": [
    "#### Hay 8807 titulos en el catalogo de netflix"
   ]
  },
  {
   "cell_type": "code",
   "execution_count": null,
   "metadata": {},
   "outputs": [],
   "source": [
    "df_resut_not_null_title =df_resultado_merge.notnull().sum()[\"title\"]\n",
    "df_resut_not_null_title"
   ]
  },
  {
   "cell_type": "markdown",
   "metadata": {},
   "source": [
    "#### No podemos averiguar la diferencia de puntuaciones de IMBD, ya que solo las produciones originales tienen dicha puntuacion."
   ]
  },
  {
   "cell_type": "code",
   "execution_count": 65,
   "metadata": {},
   "outputs": [],
   "source": [
    "# Guardamos el resultado en un cvs, con todos los datos\n",
    "df_resultado_merge.to_csv(\"../datos/netflix_titles_originales_merge.csv\")"
   ]
  },
  {
   "cell_type": "markdown",
   "metadata": {},
   "source": [
    "### Parte 3: Uso de `loc` e `iloc`\n",
    "\n",
    "Usando el DataFrame creado en la Parte 2: \n",
    "\n",
    "1. **Filtrado de datos con `loc`:**\n",
    "\n",
    "   - Selecciona todas las filas donde el tipo de contenido sea “Movie”.\n",
    "\n",
    "   - Muestra solo los títulos (title) y la duración (duration) de todos los contenidos que sean de tipo “TV Show”.\n",
    "\n",
    "   - Selecciona todas las filas donde el país sea “United States”.\n",
    "\n",
    "   - Muestra todas las películas (type = “Movie”) y selecciona las columnas title y director.\n",
    "\n",
    "   - Selecciona los títulos (title) y géneros (listed_in) de todas las producciones lanzadas en 2018.\n",
    "\n",
    "   - Selecciona las filas donde la columna director esté vacía y muestra solo los títulos (title).\n",
    "\n",
    "2. **Acceso a datos específicos con `iloc`:**\n",
    "\n",
    "   - Selecciona las primeras 5 filas del conjunto de datos y muestra solo las columnas title, director y country.\n",
    "\n",
    "   - Muestra las últimas 5 filas del conjunto de datos y selecciona las columnas title y description.\n",
    "\n",
    "   - Selecciona las primeras 10 filas del dataset y muestra las columnas desde la segunda hasta la quinta (incluidas). \n",
    "\n",
    "   - Muestra las últimas 7 filas del dataset y selecciona las columnas title, director, y country usando índices posicionales.\n",
    "\n",
    "   - Selecciona las filas desde la 15 hasta la 25 (incluidas) y muestra las primeras 4 columnas.\n",
    "\n",
    "   - Muestra las filas 20 a 30 y solo las columnas title, release_year, y rating usando índices posicionales.\n",
    "\n",
    "\n",
    "**NOTA IMPORTANTE**: Antes de terminar el lab, guarda el conjunto de datos creado en la fase de unión para trabajar con el en las siguientes lecciones. "
   ]
  },
  {
   "cell_type": "code",
   "execution_count": null,
   "metadata": {},
   "outputs": [],
   "source": [
    "  #- Selecciona todas las filas donde el tipo de contenido sea “Movie”.\n",
    "df_resultMovie = df_resultado_merge.loc[df_resultado_merge['type'] == \"Movie\"]\n",
    "df_resultMovie.sample(1)"
   ]
  },
  {
   "cell_type": "code",
   "execution_count": null,
   "metadata": {},
   "outputs": [],
   "source": [
    "# Muestra solo los títulos (title) y la duración (duration) de todos los contenidos que sean de tipo “TV Show”.\n",
    "\n",
    "df_resultShow = df_resultado_merge.loc[df_resultado_merge['type'] == \"TV Show\"]\n",
    "df_solo_dos_columnas = df_resultShow.loc[:,[\"title\",\"duration\"]]\n",
    "df_solo_dos_columnas.sample(3)"
   ]
  },
  {
   "cell_type": "code",
   "execution_count": null,
   "metadata": {},
   "outputs": [],
   "source": [
    "# Selecciona todas las filas donde el país sea “United States”.\n",
    "\n",
    "df_resultCountry = df_resultado_merge.loc[df_resultado_merge['country'] == \"United States\"]\n",
    "len(df_resultCountry)"
   ]
  },
  {
   "cell_type": "code",
   "execution_count": null,
   "metadata": {},
   "outputs": [],
   "source": [
    "#  - Selecciona las filas donde la columna director esté vacía y muestra solo los títulos (title).\n",
    "\n",
    "df_title_director = df_resultMovie.loc[:,[\"title\"]]\n",
    "df_title_director.sample(3)"
   ]
  },
  {
   "cell_type": "code",
   "execution_count": null,
   "metadata": {},
   "outputs": [],
   "source": [
    "# Selecciona las filas donde la columna director esté vacía y muestra solo los títulos (title).\n",
    "\n",
    "df_resultDireVacia = df_resultado_merge.loc[pd.isnull(df_resultado_merge['director'])==True]\n",
    "df_resultDireVacia.sample(2)"
   ]
  }
 ],
 "metadata": {
  "kernelspec": {
   "display_name": "Python 3",
   "language": "python",
   "name": "python3"
  },
  "language_info": {
   "codemirror_mode": {
    "name": "ipython",
    "version": 3
   },
   "file_extension": ".py",
   "mimetype": "text/x-python",
   "name": "python",
   "nbconvert_exporter": "python",
   "pygments_lexer": "ipython3",
   "version": "3.12.5"
  }
 },
 "nbformat": 4,
 "nbformat_minor": 2
}
